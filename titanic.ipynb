{
 "cells": [
  {
   "cell_type": "markdown",
   "metadata": {
    "_cell_guid": "51d0f21c-14b0-eb3d-4f91-d4192d876141",
    "_uuid": "d27f935104fb57c2ef96a480a52912a7e188cac6"
   },
   "source": [
    "# &#x1F4D1; &nbsp; P0: Titanic Survival Exploration (the third version)\n",
    "the first version: https://olgabelitskaya.github.io/Data_Analyst_ND_Project2.html\n",
    "\n",
    "the second version: https://olgabelitskaya.github.io/MLE_ND_P0_V0.html"
   ]
  },
  {
   "cell_type": "markdown",
   "metadata": {
    "_cell_guid": "baf02ed9-4120-333b-81d9-0457929f5ed6",
    "_uuid": "3fff980a4ea9b98760c8722adf8ef66d31693580"
   },
   "source": [
    "## 1.  References\n",
    "### Dataset\n",
    "In 1912, the ship RMS Titanic struck an iceberg on its maiden voyage and sank, resulting in the deaths of most of its passengers and crew. In this project, we will explore a subset of the RMS Titanic passenger manifest to determine which features best predict whether someone survived or did not survive. \n",
    "\n",
    "The data contains demographics and voyage information from 891 of the 2224 passengers and crew on board the ship.\n",
    "\n",
    "This link allows reading the description of this dataset on the Kaggle website, where the data was obtained. https://www.kaggle.com/c/titanic/data\n",
    "\n",
    "### Resources :\n",
    "Intro to Data Science. Udacity: https://www.udacity.com/course/intro-to-data-science--ud359\n",
    "\n",
    "Statistics in Python. Scipy Lecture Notes: http://www.scipy-lectures.org/packages/statistics/index.html\n",
    "\n",
    "A Visual Introduction to Machine Learning: http://www.r2d3.us/visual-intro-to-machine-learning-part-1/\n",
    "\n",
    "The scikit-learn metrics: http://scikit-learn.org/stable/modules/classes.html#module-sklearn.metrics"
   ]
  },
  {
   "cell_type": "markdown",
   "metadata": {
    "_cell_guid": "96bfd4b8-9711-cdcb-f731-fed94a78a391",
    "_uuid": "bbe9b151feba70a5fad0ee7053457f565f70311b"
   },
   "source": [
    "## 2. Code Tools"
   ]
  },
  {
   "cell_type": "code",
   "execution_count": 1,
   "metadata": {
    "_cell_guid": "97619f45-1aa9-87ad-84a1-120050eb3944",
    "_execution_state": "idle",
    "_uuid": "eefa16d8b93d029fc3909831199e4a24e8640f75",
    "collapsed": false
   },
   "outputs": [
    {
     "name": "stderr",
     "output_type": "stream",
     "text": [
      "Using TensorFlow backend.\n"
     ]
    }
   ],
   "source": [
    "#########################\n",
    "### IMPORT  LIBRARIES ###\n",
    "######################### \n",
    "import numpy as np\n",
    "import pandas as pd\n",
    "import seaborn as sns\n",
    "from time import time\n",
    "import matplotlib.pyplot as plt\n",
    "\n",
    "from IPython.display import display \n",
    "  \n",
    "# Pretty display for notebooks\n",
    "import warnings\n",
    "warnings.filterwarnings(\"ignore\", category = UserWarning, module = \"matplotlib\")\n",
    "from matplotlib import style\n",
    "%matplotlib inline\n",
    "\n",
    "########################\n",
    "### EXTRA  LIBRARIES ###\n",
    "########################\n",
    "from sklearn.metrics import accuracy_score, precision_score, recall_score\n",
    "from sklearn.metrics import f1_score, make_scorer\n",
    "from sklearn.preprocessing import OneHotEncoder, StandardScaler\n",
    "\n",
    "from sklearn.ensemble import AdaBoostClassifier \n",
    "from sklearn.ensemble import GradientBoostingClassifier \n",
    "from sklearn.ensemble import RandomForestClassifier\n",
    "from sklearn.model_selection import GridSearchCV, train_test_split\n",
    "\n",
    "import keras as ks\n",
    "from keras.models import Sequential, load_model, Model\n",
    "from keras.preprocessing import sequence\n",
    "from keras.optimizers import SGD, RMSprop\n",
    "from keras.layers import Dense, Dropout, LSTM\n",
    "from keras.layers import Activation, Flatten, Input, BatchNormalization\n",
    "from keras.layers import Convolution1D, MaxPooling1D, Conv2D, MaxPooling2D\n",
    "from keras.layers.embeddings import Embedding\n",
    "from keras.wrappers.scikit_learn import KerasRegressor"
   ]
  },
  {
   "cell_type": "markdown",
   "metadata": {
    "_cell_guid": "242ef5ab-d80c-b1ad-5841-4915e4ed0af1",
    "_uuid": "8dc8ee36b1d9fb5a2134c7dea18d2bffa374617b"
   },
   "source": [
    "##  3. Statistical Analysis  and   Data   Exploration\n",
    "### 3.1 Dataset\n",
    "Let's extract the data from the .csv file, create a  pandas DataFrame and look at the available indicators:\n",
    "\n",
    "- ***Survived***: Outcome of survival (0 = No; 1 = Yes)\n",
    "- ***Pclass***: Socio-economic class (1 = Upper class; 2 = Middle class; 3 = Lower class)\n",
    "- ***Name***: Name of passenger\n",
    "- ***Sex***: Sex of the passenger\n",
    "- ***Age***: Age of the passenger (Some entries contain NaN)\n",
    "- ***SibSp***: Number of siblings and spouses of the passenger aboard\n",
    "- ***Parch***: Number of parents and children of the passenger aboard\n",
    "- ***Ticket***: Ticket number of the passenger\n",
    "- ***Fare***: Fare paid by the passenger\n",
    "- ***Cabin***: Cabin number of the passenger (Some entries contain NaN)\n",
    "- ***Embarked***: Port of embarkation of the passenger (C = Cherbourg; Q = Queenstown; S = Southampton)"
   ]
  },
  {
   "cell_type": "code",
   "execution_count": 2,
   "metadata": {
    "_cell_guid": "79ec3e2a-fed3-d15d-b0f6-569f13ff3d5c",
    "_execution_state": "idle",
    "_uuid": "b9d6dfbd86df2a218daf2b41037f8fa1e049559f",
    "collapsed": false
   },
   "outputs": [
    {
     "name": "stdout",
     "output_type": "stream",
     "text": [
      "The Titanic dataset has 1309 data points with 12 variables.\n"
     ]
    }
   ],
   "source": [
    "# Load the dataset\n",
    "train_file = 'titanic_train.csv'\n",
    "test_file = 'titanic_test.csv'\n",
    "train_data = pd.read_csv(train_file)\n",
    "test_data = pd.read_csv(test_file)\n",
    "full_data = train_data.append(test_data, ignore_index=True)\n",
    "# Success\n",
    "print (\"The Titanic dataset has {} data points with {} variables.\".format(*full_data.shape))"
   ]
  },
  {
   "cell_type": "code",
   "execution_count": 3,
   "metadata": {
    "_cell_guid": "e7f841b0-0533-946c-1467-912088ce061f",
    "_execution_state": "idle",
    "_uuid": "220c31a5be03d01ea07cb71720d5e6d40588b340",
    "collapsed": false
   },
   "outputs": [
    {
     "name": "stdout",
     "output_type": "stream",
     "text": [
      "Examples of Data Points\n"
     ]
    },
    {
     "data": {
      "text/html": [
       "<div>\n",
       "<style>\n",
       "    .dataframe thead tr:only-child th {\n",
       "        text-align: right;\n",
       "    }\n",
       "\n",
       "    .dataframe thead th {\n",
       "        text-align: left;\n",
       "    }\n",
       "\n",
       "    .dataframe tbody tr th {\n",
       "        vertical-align: top;\n",
       "    }\n",
       "</style>\n",
       "<table border=\"1\" class=\"dataframe\">\n",
       "  <thead>\n",
       "    <tr style=\"text-align: right;\">\n",
       "      <th></th>\n",
       "      <th>0</th>\n",
       "      <th>1</th>\n",
       "      <th>2</th>\n",
       "    </tr>\n",
       "  </thead>\n",
       "  <tbody>\n",
       "    <tr>\n",
       "      <th>PassengerId</th>\n",
       "      <td>892</td>\n",
       "      <td>893</td>\n",
       "      <td>894</td>\n",
       "    </tr>\n",
       "    <tr>\n",
       "      <th>Pclass</th>\n",
       "      <td>3</td>\n",
       "      <td>3</td>\n",
       "      <td>2</td>\n",
       "    </tr>\n",
       "    <tr>\n",
       "      <th>Name</th>\n",
       "      <td>Kelly, Mr. James</td>\n",
       "      <td>Wilkes, Mrs. James (Ellen Needs)</td>\n",
       "      <td>Myles, Mr. Thomas Francis</td>\n",
       "    </tr>\n",
       "    <tr>\n",
       "      <th>Sex</th>\n",
       "      <td>male</td>\n",
       "      <td>female</td>\n",
       "      <td>male</td>\n",
       "    </tr>\n",
       "    <tr>\n",
       "      <th>Age</th>\n",
       "      <td>34.5</td>\n",
       "      <td>47</td>\n",
       "      <td>62</td>\n",
       "    </tr>\n",
       "    <tr>\n",
       "      <th>SibSp</th>\n",
       "      <td>0</td>\n",
       "      <td>1</td>\n",
       "      <td>0</td>\n",
       "    </tr>\n",
       "    <tr>\n",
       "      <th>Parch</th>\n",
       "      <td>0</td>\n",
       "      <td>0</td>\n",
       "      <td>0</td>\n",
       "    </tr>\n",
       "    <tr>\n",
       "      <th>Ticket</th>\n",
       "      <td>330911</td>\n",
       "      <td>363272</td>\n",
       "      <td>240276</td>\n",
       "    </tr>\n",
       "    <tr>\n",
       "      <th>Fare</th>\n",
       "      <td>7.8292</td>\n",
       "      <td>7</td>\n",
       "      <td>9.6875</td>\n",
       "    </tr>\n",
       "    <tr>\n",
       "      <th>Cabin</th>\n",
       "      <td>NaN</td>\n",
       "      <td>NaN</td>\n",
       "      <td>NaN</td>\n",
       "    </tr>\n",
       "    <tr>\n",
       "      <th>Embarked</th>\n",
       "      <td>Q</td>\n",
       "      <td>S</td>\n",
       "      <td>Q</td>\n",
       "    </tr>\n",
       "  </tbody>\n",
       "</table>\n",
       "</div>"
      ],
      "text/plain": [
       "                            0                                 1  \\\n",
       "PassengerId               892                               893   \n",
       "Pclass                      3                                 3   \n",
       "Name         Kelly, Mr. James  Wilkes, Mrs. James (Ellen Needs)   \n",
       "Sex                      male                            female   \n",
       "Age                      34.5                                47   \n",
       "SibSp                       0                                 1   \n",
       "Parch                       0                                 0   \n",
       "Ticket                 330911                            363272   \n",
       "Fare                   7.8292                                 7   \n",
       "Cabin                     NaN                               NaN   \n",
       "Embarked                    Q                                 S   \n",
       "\n",
       "                                     2  \n",
       "PassengerId                        894  \n",
       "Pclass                               2  \n",
       "Name         Myles, Mr. Thomas Francis  \n",
       "Sex                               male  \n",
       "Age                                 62  \n",
       "SibSp                                0  \n",
       "Parch                                0  \n",
       "Ticket                          240276  \n",
       "Fare                            9.6875  \n",
       "Cabin                              NaN  \n",
       "Embarked                             Q  "
      ]
     },
     "metadata": {},
     "output_type": "display_data"
    }
   ],
   "source": [
    "print (\"Examples of Data Points\")\n",
    "display(test_data[:3].T)"
   ]
  },
  {
   "cell_type": "markdown",
   "metadata": {
    "_cell_guid": "3b4c3a8c-fbb1-2f1f-67db-83b36a86dd65",
    "_uuid": "6137e9eef3023ae366ae48bf56be5fbaaaa497df"
   },
   "source": [
    "### 3.2 Survived\n",
    "The next step is removing the Survived feature from the data and storing it separately as our prediction targets.\n",
    "\n",
    "The passenger data and the outcomes of survival are now paired. That means for any passenger **all_features.loc[i]**, they have the survival **outcomes[i]**."
   ]
  },
  {
   "cell_type": "code",
   "execution_count": 4,
   "metadata": {
    "_cell_guid": "105b185b-d5d4-b3b9-071e-a84bc40c0747",
    "_execution_state": "idle",
    "_uuid": "d9ade16d64aea1bd663e5126307d963a7ee91937",
    "collapsed": false
   },
   "outputs": [
    {
     "name": "stdout",
     "output_type": "stream",
     "text": [
      "The percentage of survived passengers: 38.38%\n"
     ]
    }
   ],
   "source": [
    "# Store the 'Survived' feature in a new variable and remove it from the dataset\n",
    "outcomes = train_data['Survived']\n",
    "all_features = train_data.drop('Survived', axis = 1)\n",
    " \n",
    "print (\"The percentage of survived passengers: {:.2f}%\".format(100*outcomes.mean()))"
   ]
  },
  {
   "cell_type": "markdown",
   "metadata": {
    "_cell_guid": "7dcc51b2-96d3-3fee-22bb-17f6b232f344",
    "_uuid": "11e2bdf29014837782b54da75413d9cd65577ee1"
   },
   "source": [
    "### 3.3 Accuracy Score\n",
    "To measure the performance of our predictions, we need metrics to score our predictions against the true outcomes of survival.\n",
    "\n",
    "- 1) The built function **accuracy_score_0()** calculates the proportion of passengers where our prediction of their survival is correct.\n",
    "- 2) Functions *sklearn.metrics*: \n",
    "- **recall_score**, \n",
    "- **accuracy_score**, \n",
    "- **precision_score**, \n",
    "- **f1_score**,\n",
    "- **make_scorer**."
   ]
  },
  {
   "cell_type": "code",
   "execution_count": 5,
   "metadata": {
    "_cell_guid": "88e652d0-83ab-009e-0c81-cc0bcc93868e",
    "_execution_state": "idle",
    "_uuid": "4d75ec336307fc645ba1f8b96f519ef54eefbddd",
    "collapsed": true
   },
   "outputs": [],
   "source": [
    "def accuracy_score_0(truth, pred):         \n",
    "    # Ensure that the number of predictions matches number of outcomes\n",
    "    if len(truth) == len(pred):         \n",
    "        # Calculate and return the accuracy as a percent\n",
    "        return (\"Predictions have an accuracy of {:.2f}%.\".format((truth == pred).mean()*100))    \n",
    "    else:\n",
    "        return (\"Number of predictions does not match number of outcomes!\")"
   ]
  },
  {
   "cell_type": "markdown",
   "metadata": {
    "_cell_guid": "d8ee719d-d1c5-2495-1470-3a4f5d469e4b",
    "_uuid": "001274c7652d02d341254bfc7103a1ab8ada0604"
   },
   "source": [
    "## 4. Making   Prediction\n",
    "### 4.1 Intuitive Predictions\n",
    "If we were asked to make a prediction about any passenger aboard the RMS Titanic whom we knew nothing about, then the best prediction we could make would be that they did not survive. This is because we can assume that a majority of the passengers (more than 50%) did not survive the ship sinking.\n",
    "\n",
    "The **predictions_0()** function below will always predict that a passenger did not survive. Let's check its accuracy."
   ]
  },
  {
   "cell_type": "code",
   "execution_count": 6,
   "metadata": {
    "_cell_guid": "bf26c030-1889-0304-77e6-a5cd2da34c0b",
    "_execution_state": "idle",
    "_uuid": "22c9f7a5dbd0e7a5e417f1ca7760c66ee0de3c5c",
    "collapsed": false
   },
   "outputs": [
    {
     "data": {
      "text/plain": [
       "'Predictions have an accuracy of 61.62%.'"
      ]
     },
     "execution_count": 6,
     "metadata": {},
     "output_type": "execute_result"
    }
   ],
   "source": [
    "def predictions_0(data):\n",
    "    \"\"\" Model with no features. Always predicts a passenger did not survive. \"\"\"\n",
    "    predictions = []\n",
    "    for _, passenger in data.iterrows():        \n",
    "        # Predict the survival of 'passenger'\n",
    "        predictions.append(0)    \n",
    "    # Return our predictions\n",
    "    return pd.Series(predictions)\n",
    "# Make the predictions that a passenger did not survive\n",
    "predictions = predictions_0(all_features) \n",
    "# Check accuracy\n",
    "accuracy_score_0(outcomes, predictions)"
   ]
  },
  {
   "cell_type": "markdown",
   "metadata": {
    "_cell_guid": "729a8a6f-c5f5-1d02-46a3-4b67fdf18512",
    "_uuid": "7ee2d3d5d0395f52bffb63ad7a76157fbc5ae9d6"
   },
   "source": [
    "Now let us check the feature \"**Sex**\", the outcomes \"**Survived**\" and their possible dependence. \n",
    "\n",
    "Here is a special database for these categories including the indicators in percentages:\n",
    "\n",
    "- \"**Survived by sex in percentages I**\" determines the percentage of survived passengers of this sex in relation to the total number of survivors; \n",
    "- \"**Survived by sex in percentages II**\" - the percentage of survived passengers of this sex in relation to the total number of passengers of the same sex."
   ]
  },
  {
   "cell_type": "code",
   "execution_count": 7,
   "metadata": {
    "_cell_guid": "ecf43b44-f52d-bef7-02dc-3a4d7887d4fc",
    "_execution_state": "idle",
    "_uuid": "7401478e93aa60aa4f1f62736c8473816d66f350",
    "collapsed": false
   },
   "outputs": [
    {
     "data": {
      "text/html": [
       "<div>\n",
       "<style>\n",
       "    .dataframe thead tr:only-child th {\n",
       "        text-align: right;\n",
       "    }\n",
       "\n",
       "    .dataframe thead th {\n",
       "        text-align: left;\n",
       "    }\n",
       "\n",
       "    .dataframe tbody tr th {\n",
       "        vertical-align: top;\n",
       "    }\n",
       "</style>\n",
       "<table border=\"1\" class=\"dataframe\">\n",
       "  <thead>\n",
       "    <tr style=\"text-align: right;\">\n",
       "      <th></th>\n",
       "      <th>Number by sex</th>\n",
       "      <th>Number by sex in percentages</th>\n",
       "      <th>Survived by sex</th>\n",
       "      <th>Survived by sex in percentages I</th>\n",
       "      <th>Survived by sex in percentages II</th>\n",
       "    </tr>\n",
       "    <tr>\n",
       "      <th>Sex</th>\n",
       "      <th></th>\n",
       "      <th></th>\n",
       "      <th></th>\n",
       "      <th></th>\n",
       "      <th></th>\n",
       "    </tr>\n",
       "  </thead>\n",
       "  <tbody>\n",
       "    <tr>\n",
       "      <th>female</th>\n",
       "      <td>314</td>\n",
       "      <td>35.24</td>\n",
       "      <td>233</td>\n",
       "      <td>68.13</td>\n",
       "      <td>74.20</td>\n",
       "    </tr>\n",
       "    <tr>\n",
       "      <th>male</th>\n",
       "      <td>577</td>\n",
       "      <td>64.76</td>\n",
       "      <td>109</td>\n",
       "      <td>31.87</td>\n",
       "      <td>18.89</td>\n",
       "    </tr>\n",
       "  </tbody>\n",
       "</table>\n",
       "</div>"
      ],
      "text/plain": [
       "        Number by sex  Number by sex in percentages  Survived by sex  \\\n",
       "Sex                                                                    \n",
       "female            314                         35.24              233   \n",
       "male              577                         64.76              109   \n",
       "\n",
       "        Survived by sex in percentages I  Survived by sex in percentages II  \n",
       "Sex                                                                          \n",
       "female                             68.13                              74.20  \n",
       "male                               31.87                              18.89  "
      ]
     },
     "execution_count": 7,
     "metadata": {},
     "output_type": "execute_result"
    }
   ],
   "source": [
    "# Groups by sex\n",
    "number_by_sex = pd.Series(train_data.groupby('Sex').count()['PassengerId'])\n",
    "survived_by_sex = pd.Series(train_data.groupby('Sex').sum()['Survived'])\n",
    "\n",
    "def percent_xy(x,y):\n",
    "    return round(100.0*x/y, 2)\n",
    "\n",
    "# Count percentages\n",
    "number_by_sex_in_per = pd.Series(percent_xy(number_by_sex, len(train_data)))\n",
    "survived_by_sex_in_per1 = pd.Series(percent_xy(survived_by_sex, outcomes.sum()))\n",
    "survived_by_sex_in_per2 = pd.Series(percent_xy(survived_by_sex, number_by_sex))\n",
    "sex_data = pd.DataFrame({'Number by sex': number_by_sex,\n",
    "                         'Number by sex in percentages':number_by_sex_in_per,\n",
    "                         'Survived by sex':survived_by_sex,\n",
    "                         'Survived by sex in percentages I':survived_by_sex_in_per1,\n",
    "                         'Survived by sex in percentages II':survived_by_sex_in_per2})\n",
    "sex_data"
   ]
  },
  {
   "cell_type": "markdown",
   "metadata": {
    "_cell_guid": "b4c636b5-d2d2-f4ce-c330-8a5c6444eab3",
    "_uuid": "d7fc0c19b1c7b48f61708870d2241813abf83c79"
   },
   "source": [
    "Combining the data in one histogram clearly shows the tendency: female passengers were more likely to survive in this instance."
   ]
  },
  {
   "cell_type": "code",
   "execution_count": 8,
   "metadata": {
    "_cell_guid": "f511a686-be0a-c881-385b-79c28de1b663",
    "_execution_state": "idle",
    "_uuid": "8a76cc86923db2c492c02309441446508335aba3",
    "collapsed": false
   },
   "outputs": [
    {
     "data": {
      "text/plain": [
       "<matplotlib.legend.Legend at 0x103fdbe48>"
      ]
     },
     "execution_count": 8,
     "metadata": {},
     "output_type": "execute_result"
    },
    {
     "data": {
      "image/png": "[encoded data removed]",
      "text/plain": [
       "<matplotlib.figure.Figure at 0x11625cbe0>"
      ]
     },
     "metadata": {},
     "output_type": "display_data"
    }
   ],
   "source": [
    "# plot parameters\n",
    "plt.rcParams['figure.figsize'] = (13, 6)\n",
    "style.use('seaborn-bright')\n",
    "fig = plt.figure()\n",
    "ax = fig.add_subplot(111)\n",
    "\n",
    "ind = np.array([1,2])           # the x locations for the indicator\n",
    "width = 0.2                     # the width of the bars\n",
    "\n",
    "## Bars\n",
    "rects1 = ax.bar(ind, number_by_sex_in_per, width, alpha = 0.7)\n",
    "rects2 = ax.bar(ind+width, survived_by_sex_in_per1, width, alpha = 0.7)\n",
    "rects3 = ax.bar(ind+2*width, survived_by_sex_in_per2, width, alpha = 0.7)\n",
    "\n",
    "# Axes and labels\n",
    "ax.set_xlim(-width+1,len(ind)+width+0.6)\n",
    "ax.set_ylim(0,90)\n",
    "ax.set_ylabel('Values by sex in percentages')\n",
    "ax.set_title('Passengers, Statistics by Sex in Percentages', fontsize=20)\n",
    "xTickMarks = ['female','male']\n",
    "ax.set_xticks(ind+width)\n",
    "xtickNames = ax.set_xticklabels(xTickMarks)\n",
    "plt.setp(xtickNames, rotation=0, fontsize=30)\n",
    "\n",
    "## Legend\n",
    "ax.legend((rects1[0], rects2[0], rects3[0]), \n",
    "          ('Number by sex in percentages', \n",
    "           'Survived by sex in percentages I', \n",
    "           'Survived by sex in percentages II'))"
   ]
  },
  {
   "cell_type": "markdown",
   "metadata": {
    "_cell_guid": "70a77af1-67cc-4f0a-47a3-e50926107951",
    "_uuid": "427837e0626af162ccdc8fa9176b2341e613c6cb"
   },
   "source": [
    "Let's build on our previous prediction: If a passenger was female, then we will predict that they survived. Otherwise, we will predict the passenger did not survive."
   ]
  },
  {
   "cell_type": "code",
   "execution_count": 9,
   "metadata": {
    "_cell_guid": "f51d2d5a-45cf-8201-a45c-10bf22f4a3fa",
    "_execution_state": "idle",
    "_uuid": "61a500be9f7628b1e68a0a61f10cf361b023fd75",
    "collapsed": false
   },
   "outputs": [
    {
     "data": {
      "text/plain": [
       "'Predictions have an accuracy of 78.68%.'"
      ]
     },
     "execution_count": 9,
     "metadata": {},
     "output_type": "execute_result"
    }
   ],
   "source": [
    "def predictions_1(data):\n",
    "    \"\"\" Model with one feature: \n",
    "            - Predict a passenger survived if they are female. \"\"\"\n",
    "    \n",
    "    predictions = []\n",
    "    for _, passenger in data.iterrows():\n",
    "        if passenger['Sex'] == 'female':\n",
    "            predictions.append(1)\n",
    "        else:\n",
    "            predictions.append(0)\n",
    "    \n",
    "    # Return our predictions\n",
    "    return pd.Series(predictions)\n",
    "\n",
    "# Make the predictions \n",
    "predictions1 = predictions_1(all_features) \n",
    "# Check accuracy\n",
    "accuracy_score_0(outcomes, predictions1)"
   ]
  },
  {
   "cell_type": "markdown",
   "metadata": {
    "_cell_guid": "66100172-9f34-0611-31d1-cbdda6d0a7de",
    "_uuid": "d9c1ecffeb3fde1a44a7959192b854ed5351f9ad"
   },
   "source": [
    "Using just the Sex feature for each passenger, we are able to increase the accuracy of our predictions by a significant margin.\n",
    "Now, let's consider using an additional feature to see if we can further improve our predictions. We will start by looking at the Age."
   ]
  },
  {
   "cell_type": "code",
   "execution_count": 10,
   "metadata": {
    "_cell_guid": "e515cde0-84d1-f229-ce9a-26604517ccf4",
    "_execution_state": "idle",
    "_uuid": "4958489fdfd3e0d2c4cef7e7b7a6bff5214d10b2",
    "collapsed": false
   },
   "outputs": [
    {
     "data": {
      "text/plain": [
       "<matplotlib.legend.Legend at 0x11625c630>"
      ]
     },
     "execution_count": 10,
     "metadata": {},
     "output_type": "execute_result"
    },
    {
     "data": {
      "image/png": "[encoded data removed]",
      "text/plain": [
       "<matplotlib.figure.Figure at 0x11625c5f8>"
      ]
     },
     "metadata": {},
     "output_type": "display_data"
    }
   ],
   "source": [
    "# Data for male passengers\n",
    "male = train_data[train_data.Sex=='male']\n",
    "male.Age.hist(alpha=0.7)\n",
    "male[male.Survived==1].Age.hist(alpha=0.7)\n",
    "\n",
    "# Labels, title, legend\n",
    "plt.xlabel(\"Age\")\n",
    "plt.ylabel(\"Number by age\")\n",
    "plt.title(\"Male Passengers, Statistics by Age\", fontsize=20)\n",
    "plt.legend([\"Number of Male Passengers\", \n",
    "           \"Male Survived Passengers by Age\"])"
   ]
  },
  {
   "cell_type": "code",
   "execution_count": 11,
   "metadata": {
    "_cell_guid": "e33aea61-85ed-12df-c3be-21bd0c981afe",
    "_execution_state": "idle",
    "_uuid": "401e34e413adc21251f012056f1eeb7a77646577",
    "collapsed": false
   },
   "outputs": [
    {
     "data": {
      "text/plain": [
       "'Predictions have an accuracy of 79.35%.'"
      ]
     },
     "execution_count": 11,
     "metadata": {},
     "output_type": "execute_result"
    }
   ],
   "source": [
    "def predictions_2(data):\n",
    "    \"\"\" Model with two features: \n",
    "            - Predict a passenger survived if they are female.\n",
    "            - Predict a passenger survived if they are male and younger than 10. \"\"\"\n",
    "    \n",
    "    predictions = []\n",
    "    for _, passenger in data.iterrows():\n",
    "        if passenger['Sex'] == 'female':\n",
    "            predictions.append(1)\n",
    "        elif passenger['Sex'] == 'male' and passenger['Age'] < 10:\n",
    "            predictions.append(1)\n",
    "        else:\n",
    "            predictions.append(0)\n",
    "    \n",
    "    # Return our predictions\n",
    "    return pd.Series(predictions)\n",
    "# Make the predictions \n",
    "predictions2 = predictions_2(all_features) \n",
    "# Check accuracy\n",
    "accuracy_score_0(outcomes, predictions2)"
   ]
  },
  {
   "cell_type": "markdown",
   "metadata": {
    "_cell_guid": "d5f9d510-a494-097b-088b-8b81b466d0c6",
    "_uuid": "89c8e58389d5496173841acff2a8bfccae8177fc"
   },
   "source": [
    "Adding the feature **Age** as a condition in conjunction with **Sex** improves the accuracy by a small margin more than with simply using the feature **Sex** alone. Now we can try to find a series of features and conditions to split the data on to obtain an outcome prediction accuracy of at least 80%. This may require multiple features and multiple levels of conditional statements to succeed. We can use the same feature multiple times with different conditions.\n",
    "\n",
    "There are some experiments and the function **prediction_final()** as a result:"
   ]
  },
  {
   "cell_type": "code",
   "execution_count": 11,
   "metadata": {
    "_cell_guid": "25c35af4-2d27-ccc2-4aa7-5762902420f2",
    "_execution_state": "idle",
    "_uuid": "6001b23c84693b179c6483d97745c6210e3a8997",
    "collapsed": false
   },
   "outputs": [
    {
     "data": {
      "text/plain": [
       "<matplotlib.legend.Legend at 0x116761f28>"
      ]
     },
     "execution_count": 11,
     "metadata": {},
     "output_type": "execute_result"
    },
    {
     "data": {
      "image/png": "[encoded data removed]",
      "text/plain": [
       "<matplotlib.figure.Figure at 0x104318a20>"
      ]
     },
     "metadata": {},
     "output_type": "display_data"
    }
   ],
   "source": [
    "# Data for male and young passengers\n",
    "young_male = male[male.Age < 15]\n",
    "survived_young_male = young_male[young_male.Survived==1]\n",
    "\n",
    "# Create histogram\n",
    "plt.hist((young_male.Pclass, survived_young_male.Pclass), \n",
    "          bins=range(1,5), rwidth=0.7, alpha=0.7, align='left')\n",
    "\n",
    "# Ticks, labels, title, legend\n",
    "plt.xticks([1,2,3])\n",
    "plt.xlabel(\"Plass\")\n",
    "plt.ylabel(\"Number by Pclass\")\n",
    "plt.title(\"Male Young Passengers, Statistics by Pclass\", fontsize=20)\n",
    "plt.legend([\"Male Young Passengers\", \"Survived Male Young Passengers\"])"
   ]
  },
  {
   "cell_type": "code",
   "execution_count": 12,
   "metadata": {
    "_cell_guid": "15702878-a67a-5362-8ca0-7ed567b528c5",
    "_execution_state": "idle",
    "_uuid": "d60a3b90d2ff05aee49495ce809d0711a5b6c4fd",
    "collapsed": false
   },
   "outputs": [
    {
     "data": {
      "text/plain": [
       "<matplotlib.legend.Legend at 0x116938128>"
      ]
     },
     "execution_count": 12,
     "metadata": {},
     "output_type": "execute_result"
    },
    {
     "data": {
      "image/png": "[encoded data removed]",
      "text/plain": [
       "<matplotlib.figure.Figure at 0x11628a748>"
      ]
     },
     "metadata": {},
     "output_type": "display_data"
    }
   ],
   "source": [
    "# Create histogram\n",
    "plt.hist((young_male.SibSp, survived_young_male.SibSp), \n",
    "         bins=range(0,7), rwidth=0.5, align='left', alpha=0.7)\n",
    "\n",
    "# Labels, title, legend\n",
    "plt.xlabel(\"SibSb\")\n",
    "plt.ylabel(\"Number by SibSp\")\n",
    "plt.title(\"Male Young Passengers, Statistics by SibSp\", fontsize=20)\n",
    "plt.legend([\"Male Young Passengers\", \"Survived Young Male Passengers\"])"
   ]
  },
  {
   "cell_type": "code",
   "execution_count": 13,
   "metadata": {
    "_cell_guid": "bb67f805-4bb3-0252-99a9-58b9e427e3c6",
    "_execution_state": "idle",
    "_uuid": "a534d2590f53e96c4a5d8b91eae406fafa761b2d",
    "collapsed": false
   },
   "outputs": [
    {
     "data": {
      "text/plain": [
       "'Predictions have an accuracy of 80.92%.'"
      ]
     },
     "execution_count": 13,
     "metadata": {},
     "output_type": "execute_result"
    }
   ],
   "source": [
    "def predictions_final(data):\n",
    "    \"\"\" Model with multiple features. Makes a prediction with an accuracy of at least 80%. \"\"\"\n",
    "    \n",
    "    predictions = []\n",
    "    for _, passenger in data.iterrows():\n",
    "        if (passenger['Sex'] == 'female'):\n",
    "            predictions.append(1)\n",
    "                \n",
    "        elif passenger['Pclass'] in [1,2] and (passenger['Age'] < 16 or passenger['Age'] > 75):\n",
    "            predictions.append(1)\n",
    "            \n",
    "        elif passenger['Age'] < 15 and passenger['SibSp'] < 3:\n",
    "            predictions.append(1)\n",
    "            \n",
    "        else:\n",
    "            predictions.append(0)\n",
    "    \n",
    "    # Return our predictions\n",
    "    return pd.Series(predictions)\n",
    "# Make the predictions \n",
    "predictions_final = predictions_final(all_features) \n",
    "# Check accuracy\n",
    "accuracy_score_0(outcomes, predictions_final)"
   ]
  },
  {
   "cell_type": "markdown",
   "metadata": {
    "_cell_guid": "4879563e-5c42-0b8d-a67e-fa1df17f9f8e",
    "_uuid": "03153792d25c3b3dc97d8bb7b4fbe8628b97a870"
   },
   "source": [
    "The final set of features **Sex**, **Age**, **SibSp** and **Pclass** are the most informative on my opinion.\n",
    "\n",
    "As we noted the percentage of survivors of passengers is much higher among women than among men, and it was used in our predictions.\n",
    "\n",
    "Next, I proceed from the assumption that because of humanitarian reasons people rescue children and elders at first. Unfortunately, this was only valid for the passengers of the first and second classes in this dataset.\n",
    "\n",
    "And the latest clarification, which overcomes the border of 80% in prediction accuracy: if a family has more than three children, absolutely all the family may not be survived in catastrophic situations and in an atmosphere of panic."
   ]
  },
  {
   "cell_type": "markdown",
   "metadata": {
    "_cell_guid": "3dc475ee-4507-2fc4-8c21-012348bd77f4",
    "_uuid": "459e1cd486cbbc7e24371a40e5bb7e003964d3cc"
   },
   "source": [
    "Let's evaluate the quality of the prediction."
   ]
  },
  {
   "cell_type": "code",
   "execution_count": 14,
   "metadata": {
    "_cell_guid": "5b97519b-5561-d502-d117-b344e8a09647",
    "_execution_state": "idle",
    "_uuid": "9dfee961e35d3b5aedc7e8a2e1a86c9a9382ecd7",
    "collapsed": false
   },
   "outputs": [
    {
     "name": "stdout",
     "output_type": "stream",
     "text": [
      "Predictions have an accuracy of 80.92%.\n",
      "Predictions have an recall score equal to 74.27%.\n",
      "Predictions have an precision score equal to 75.60%.\n"
     ]
    }
   ],
   "source": [
    "print (\"Predictions have an accuracy of {:.2f}%.\".format(accuracy_score(outcomes, predictions_final)*100))\n",
    "print (\"Predictions have an recall score equal to {:.2f}%.\".format(recall_score(outcomes, \n",
    "                                                                                predictions_final)*100))\n",
    "print (\"Predictions have an precision score equal to {:.2f}%.\".format(precision_score(outcomes,\n",
    "                                                                                      predictions_final)*100))"
   ]
  },
  {
   "cell_type": "markdown",
   "metadata": {
    "_cell_guid": "8ccc3161-4e7c-efb2-2fe6-187e103a3959",
    "_uuid": "49bbb8042a9c74593454a3b314eed975a9aabe91"
   },
   "source": [
    "The evaluation terminology:\n",
    "\n",
    "- accuracy = number of  people that  are  correctly  predicted as survived or non-survived / number  of all  people  in  the dataset \n",
    "- recall = number of people that are predicted as survived and they are actually survived / number of  people are actually survived\n",
    "- precision =  number of people that  are predicted as survived  and they are actually survived / number of people that are predicted as survived\n",
    "\n",
    "In this part of the project, I have used a manual implementation of a simple machine learning model, the decision tree which splits a set of data into smaller and smaller groups (called nodes), by one feature at a time. The predictions become more accurate if each of the resulting subsets is more homogeneous (contain similar labels) than before.\n",
    "\n",
    "A decision tree is just one of many models that come from supervised learning, i.e. learning a model from labeled training data to make predictions about unseen or future data in a set of samples the desired outputs are already known."
   ]
  },
  {
   "cell_type": "markdown",
   "metadata": {
    "_cell_guid": "46ecac7c-785a-d373-32b1-c612a0b91ee8",
    "_uuid": "931b56baa4d204aa729db4ada50fde51540d5b52"
   },
   "source": [
    "### 4.2 Classifiers\n",
    "I think this machine learning problem is in the classification field. It needs to predict the labels for the passengers: 'yes' or 'no' for the feature 'Survived'.\n",
    "\n",
    "For simplicity, the border between regression and classification can be described in this way:\n",
    "\n",
    "- classification: predict the values of discrete or categorical targets;\n",
    "- regression: predict the values of continuous targets.\n",
    "\n",
    "Let's display some important information about the data training set."
   ]
  },
  {
   "cell_type": "code",
   "execution_count": 15,
   "metadata": {
    "_cell_guid": "af777b47-0250-59c2-bf34-64afe4adb103",
    "_execution_state": "idle",
    "_uuid": "dcac98159f0067fe1bd189eaa05b479a11d804ba",
    "collapsed": false
   },
   "outputs": [
    {
     "name": "stdout",
     "output_type": "stream",
     "text": [
      "Total number of passengers: 891\n",
      "Number of features: 12\n",
      "Number of passengers who survived: 342\n",
      "Number of passengers who did not survive: 549\n",
      "Persentage of survived passengers: 38.38%\n",
      "\n",
      "Feature columns:\n",
      "['PassengerId', 'Pclass', 'Name', 'Sex', 'Age', 'SibSp', 'Parch', 'Ticket', 'Fare', 'Cabin', 'Embarked']\n",
      "\n",
      "Target column: 'Survived'\n"
     ]
    }
   ],
   "source": [
    "# Calculate the number of passengers\n",
    "n_passengers = len(train_data)\n",
    "\n",
    "# Calculate the number of features\n",
    "n_features = len(list(train_data.T.index))\n",
    "\n",
    "# Number of survived passengers\n",
    "n_survived = len(train_data[train_data['Survived'] == 1])\n",
    "\n",
    "# Number of non-survived passengers\n",
    "n_nonsurvived = len(train_data[train_data['Survived'] == 0])\n",
    "\n",
    "# Print the results\n",
    "print (\"Total number of passengers: {}\".format(n_passengers))\n",
    "print (\"Number of features: {}\".format(n_features))\n",
    "print (\"Number of passengers who survived: {}\".format(n_survived))\n",
    "print (\"Number of passengers who did not survive: {}\".format(n_nonsurvived))\n",
    "print (\"Persentage of survived passengers: {:.2f}%\".format(100*n_survived/n_passengers))\n",
    "\n",
    "# Show the list of columns\n",
    "print (\"\\nFeature columns:\\n{}\".format(list(all_features.columns)))\n",
    "print (\"\\nTarget column: 'Survived'\")"
   ]
  },
  {
   "cell_type": "markdown",
   "metadata": {
    "_cell_guid": "64daf4e3-b116-3a6e-56e4-5f50b47370b8",
    "_uuid": "754bd4f6b3439923b714dbad125d78f7685c42c7"
   },
   "source": [
    "Let's exclude the features that cannot have an influence on the target and the feature **Cabin** that has too many **NaN** values."
   ]
  },
  {
   "cell_type": "code",
   "execution_count": 16,
   "metadata": {
    "_cell_guid": "f59b433b-2160-434e-b18c-ef9989583664",
    "_execution_state": "idle",
    "_uuid": "231f0e596161e788cae8faadffec3db94d50c38d",
    "collapsed": false
   },
   "outputs": [
    {
     "name": "stdout",
     "output_type": "stream",
     "text": [
      " Persentage of NaN values in 'Cabin': 77.10%\n"
     ]
    }
   ],
   "source": [
    "# Count nan values for the feature 'Cabin'\n",
    "n_nan_cabin = pd.isnull(all_features['Cabin']).sum()\n",
    "print (\" Persentage of NaN values in 'Cabin': {:.2f}%\".format(100.0*n_nan_cabin/n_passengers))\n",
    "# Setup a new feature list\n",
    "feature_list2 = ['Pclass', 'Sex', 'Age', 'SibSp', 'Parch', 'Fare', 'Embarked']\n",
    "pre_features = all_features[feature_list2]\n",
    "test_features = test_data[feature_list2]"
   ]
  },
  {
   "cell_type": "code",
   "execution_count": 17,
   "metadata": {
    "_cell_guid": "ed960f3d-a940-bca3-05f1-b30c5959add9",
    "_execution_state": "idle",
    "_uuid": "1b9698d1fca3131d47bb502de9a0993f26bb2316",
    "collapsed": false
   },
   "outputs": [
    {
     "data": {
      "text/html": [
       "<div>\n",
       "<style>\n",
       "    .dataframe thead tr:only-child th {\n",
       "        text-align: right;\n",
       "    }\n",
       "\n",
       "    .dataframe thead th {\n",
       "        text-align: left;\n",
       "    }\n",
       "\n",
       "    .dataframe tbody tr th {\n",
       "        vertical-align: top;\n",
       "    }\n",
       "</style>\n",
       "<table border=\"1\" class=\"dataframe\">\n",
       "  <thead>\n",
       "    <tr style=\"text-align: right;\">\n",
       "      <th></th>\n",
       "      <th>0</th>\n",
       "      <th>1</th>\n",
       "      <th>2</th>\n",
       "      <th>3</th>\n",
       "      <th>4</th>\n",
       "      <th>5</th>\n",
       "      <th>6</th>\n",
       "      <th>7</th>\n",
       "      <th>8</th>\n",
       "      <th>9</th>\n",
       "      <th>10</th>\n",
       "    </tr>\n",
       "  </thead>\n",
       "  <tbody>\n",
       "    <tr>\n",
       "      <th>Pclass</th>\n",
       "      <td>3</td>\n",
       "      <td>1</td>\n",
       "      <td>3</td>\n",
       "      <td>1</td>\n",
       "      <td>3</td>\n",
       "      <td>3</td>\n",
       "      <td>1</td>\n",
       "      <td>3</td>\n",
       "      <td>3</td>\n",
       "      <td>2</td>\n",
       "      <td>3</td>\n",
       "    </tr>\n",
       "    <tr>\n",
       "      <th>Sex</th>\n",
       "      <td>male</td>\n",
       "      <td>female</td>\n",
       "      <td>female</td>\n",
       "      <td>female</td>\n",
       "      <td>male</td>\n",
       "      <td>male</td>\n",
       "      <td>male</td>\n",
       "      <td>male</td>\n",
       "      <td>female</td>\n",
       "      <td>female</td>\n",
       "      <td>female</td>\n",
       "    </tr>\n",
       "    <tr>\n",
       "      <th>Age</th>\n",
       "      <td>22</td>\n",
       "      <td>38</td>\n",
       "      <td>26</td>\n",
       "      <td>35</td>\n",
       "      <td>35</td>\n",
       "      <td>NaN</td>\n",
       "      <td>54</td>\n",
       "      <td>2</td>\n",
       "      <td>27</td>\n",
       "      <td>14</td>\n",
       "      <td>4</td>\n",
       "    </tr>\n",
       "    <tr>\n",
       "      <th>SibSp</th>\n",
       "      <td>1</td>\n",
       "      <td>1</td>\n",
       "      <td>0</td>\n",
       "      <td>1</td>\n",
       "      <td>0</td>\n",
       "      <td>0</td>\n",
       "      <td>0</td>\n",
       "      <td>3</td>\n",
       "      <td>0</td>\n",
       "      <td>1</td>\n",
       "      <td>1</td>\n",
       "    </tr>\n",
       "    <tr>\n",
       "      <th>Parch</th>\n",
       "      <td>0</td>\n",
       "      <td>0</td>\n",
       "      <td>0</td>\n",
       "      <td>0</td>\n",
       "      <td>0</td>\n",
       "      <td>0</td>\n",
       "      <td>0</td>\n",
       "      <td>1</td>\n",
       "      <td>2</td>\n",
       "      <td>0</td>\n",
       "      <td>1</td>\n",
       "    </tr>\n",
       "    <tr>\n",
       "      <th>Fare</th>\n",
       "      <td>7.25</td>\n",
       "      <td>71.2833</td>\n",
       "      <td>7.925</td>\n",
       "      <td>53.1</td>\n",
       "      <td>8.05</td>\n",
       "      <td>8.4583</td>\n",
       "      <td>51.8625</td>\n",
       "      <td>21.075</td>\n",
       "      <td>11.1333</td>\n",
       "      <td>30.0708</td>\n",
       "      <td>16.7</td>\n",
       "    </tr>\n",
       "    <tr>\n",
       "      <th>Embarked</th>\n",
       "      <td>S</td>\n",
       "      <td>C</td>\n",
       "      <td>S</td>\n",
       "      <td>S</td>\n",
       "      <td>S</td>\n",
       "      <td>Q</td>\n",
       "      <td>S</td>\n",
       "      <td>S</td>\n",
       "      <td>S</td>\n",
       "      <td>C</td>\n",
       "      <td>S</td>\n",
       "    </tr>\n",
       "  </tbody>\n",
       "</table>\n",
       "</div>"
      ],
      "text/plain": [
       "            0        1       2       3     4       5        6       7   \\\n",
       "Pclass       3        1       3       1     3       3        1       3   \n",
       "Sex       male   female  female  female  male    male     male    male   \n",
       "Age         22       38      26      35    35     NaN       54       2   \n",
       "SibSp        1        1       0       1     0       0        0       3   \n",
       "Parch        0        0       0       0     0       0        0       1   \n",
       "Fare      7.25  71.2833   7.925    53.1  8.05  8.4583  51.8625  21.075   \n",
       "Embarked     S        C       S       S     S       Q        S       S   \n",
       "\n",
       "               8        9       10  \n",
       "Pclass          3        2       3  \n",
       "Sex        female   female  female  \n",
       "Age            27       14       4  \n",
       "SibSp           0        1       1  \n",
       "Parch           2        0       1  \n",
       "Fare      11.1333  30.0708    16.7  \n",
       "Embarked        S        C       S  "
      ]
     },
     "execution_count": 17,
     "metadata": {},
     "output_type": "execute_result"
    }
   ],
   "source": [
    "pre_features.head(11).T"
   ]
  },
  {
   "cell_type": "markdown",
   "metadata": {
    "_cell_guid": "6a33912c-998f-2d98-83d5-50ad0562a857",
    "_uuid": "85f6139884b2813f92151cd7b4321720c7f96e00"
   },
   "source": [
    "Now I should count missing values for the remained variables."
   ]
  },
  {
   "cell_type": "code",
   "execution_count": 18,
   "metadata": {
    "_cell_guid": "fa60394c-b248-cb02-4c67-0586355705b0",
    "_execution_state": "idle",
    "_uuid": "d130cf3a56d4b7a62c6329d8c2252ae4b874670c",
    "collapsed": false
   },
   "outputs": [
    {
     "name": "stdout",
     "output_type": "stream",
     "text": [
      "Number of missing values in the train set\n",
      "\n",
      "Pclass:0\n",
      "Sex:0\n",
      "Age:177\n",
      "SibSp:0\n",
      "Parch:0\n",
      "Fare:0\n",
      "Embarked:2\n",
      "\n",
      "Number of missing values in the test set\n",
      "\n",
      "Pclass:0\n",
      "Sex:0\n",
      "Age:86\n",
      "SibSp:0\n",
      "Parch:0\n",
      "Fare:1\n",
      "Embarked:0\n"
     ]
    }
   ],
   "source": [
    "print (\"Number of missing values in the train set\\n\")\n",
    "for feature in feature_list2:\n",
    "    print(\"{}:{}\".format(feature, pd.isnull(pre_features[feature]).sum()))\n",
    "\n",
    "print('')\n",
    "    \n",
    "print (\"Number of missing values in the test set\\n\")\n",
    "for feature in feature_list2:\n",
    "    print(\"{}:{}\".format(feature, pd.isnull(test_features[feature]).sum()))"
   ]
  },
  {
   "cell_type": "markdown",
   "metadata": {
    "_cell_guid": "2010abe8-5ec1-cb5f-0294-aa0777115484",
    "_uuid": "671f6e8958d2569ffc293f3372e75f93fbd87673"
   },
   "source": [
    "As we can see, there are several non-numeric columns that need to be converted. Some of them have simply two values (male/female, 1/0, etc.). These features can be reasonably converted into binary values.\n",
    "\n",
    "Other columns, like **Embarked**, have more than two values and are known as categorical variables. The recommended way to handle such a column is to create as many columns as possible values and assign a 1 to one of them and 0 to all others.\n",
    "\n",
    "These generated columns are sometimes called dummy variables, and I will use the **pandas.get_dummies()** function to perform this transformation.\n",
    "\n",
    "In the preprocessing function, I will also replace found missing values in the features **Age** and **Fare** by the mean and in the feature **Embarked** by the most common value"
   ]
  },
  {
   "cell_type": "code",
   "execution_count": 73,
   "metadata": {
    "_cell_guid": "a9d6a908-2278-6b04-c3fa-353381e0472f",
    "_execution_state": "idle",
    "_uuid": "18e54e904e918bb11ef9288804808727cce03f5a",
    "collapsed": false
   },
   "outputs": [],
   "source": [
    "def preprocess_features(X):\n",
    "    ''' Preprocesses the data and converts non-numeric binary variables into\n",
    "        binary (0/1) variables. Converts categorical variables into dummy variables. '''\n",
    "    \n",
    "    # Initialize new output DataFrame\n",
    "    output = pd.DataFrame(index = X.index)\n",
    "\n",
    "    # Investigate each feature column for the data\n",
    "    for col, col_data in X.iteritems():\n",
    "        \n",
    "        # Replace 'nan' in 'Embarked'\n",
    "        most_common = pd.get_dummies(X['Embarked']).sum().sort_values(ascending=False).index[0]\n",
    "        if col == 'Embarked':\n",
    "            col_data = col_data.replace('nan', most_common)\n",
    "        \n",
    "        # Replace 'Nan' in 'Age'\n",
    "        mean1 = X['Age'].mean()\n",
    "        if col == 'Age':\n",
    "            col_data = col_data.replace('NaN', mean1)\n",
    "            \n",
    "        # Replace 'Nan' in 'Fare'\n",
    "        mean2 = X['Fare'].mean()\n",
    "        if col == 'Fare':\n",
    "            col_data = col_data.replace('NaN', mean2)\n",
    "        \n",
    "        # If data type is non-numeric, replace all male/female, yes/no values with 1/0\n",
    "        if col_data.dtype == object:\n",
    "            col_data = col_data.replace(['male', 'female'], [1, 0])\n",
    "\n",
    "        # If data type is categorical, convert to dummy variables\n",
    "        if col_data.dtype == object:\n",
    "            # Example: 'school' => 'school_GP' and 'school_MS'\n",
    "            col_data = pd.get_dummies(col_data, prefix = col)  \n",
    "        \n",
    "        # Collect the revised columns\n",
    "        output = output.join(col_data)\n",
    "    \n",
    "    return output"
   ]
  },
  {
   "cell_type": "markdown",
   "metadata": {
    "_cell_guid": "b2fafb5b-deba-fc1b-038b-42d41dd4fc35",
    "_uuid": "143a49f060e1dd21e771e7b3abd1438754899974"
   },
   "source": [
    "Here is the result of applying this function."
   ]
  },
  {
   "cell_type": "code",
   "execution_count": 19,
   "metadata": {
    "_cell_guid": "e2626a16-283c-b40f-9e8a-d7f6b29ac995",
    "_execution_state": "idle",
    "_uuid": "0c29c0420201c34b4a885e7f2431d117c0e88e50",
    "collapsed": false
   },
   "outputs": [
    {
     "data": {
      "text/html": [
       "<div>\n",
       "<style>\n",
       "    .dataframe thead tr:only-child th {\n",
       "        text-align: right;\n",
       "    }\n",
       "\n",
       "    .dataframe thead th {\n",
       "        text-align: left;\n",
       "    }\n",
       "\n",
       "    .dataframe tbody tr th {\n",
       "        vertical-align: top;\n",
       "    }\n",
       "</style>\n",
       "<table border=\"1\" class=\"dataframe\">\n",
       "  <thead>\n",
       "    <tr style=\"text-align: right;\">\n",
       "      <th></th>\n",
       "      <th>0</th>\n",
       "      <th>1</th>\n",
       "      <th>2</th>\n",
       "      <th>3</th>\n",
       "      <th>4</th>\n",
       "      <th>5</th>\n",
       "      <th>6</th>\n",
       "      <th>7</th>\n",
       "      <th>8</th>\n",
       "      <th>9</th>\n",
       "      <th>10</th>\n",
       "      <th>11</th>\n",
       "      <th>12</th>\n",
       "      <th>13</th>\n",
       "      <th>14</th>\n",
       "    </tr>\n",
       "  </thead>\n",
       "  <tbody>\n",
       "    <tr>\n",
       "      <th>Pclass</th>\n",
       "      <td>3</td>\n",
       "      <td>1</td>\n",
       "      <td>3</td>\n",
       "      <td>1</td>\n",
       "      <td>3</td>\n",
       "      <td>3</td>\n",
       "      <td>1</td>\n",
       "      <td>3</td>\n",
       "      <td>3</td>\n",
       "      <td>2</td>\n",
       "      <td>3</td>\n",
       "      <td>1</td>\n",
       "      <td>3</td>\n",
       "      <td>3</td>\n",
       "      <td>3</td>\n",
       "    </tr>\n",
       "    <tr>\n",
       "      <th>Sex</th>\n",
       "      <td>male</td>\n",
       "      <td>female</td>\n",
       "      <td>female</td>\n",
       "      <td>female</td>\n",
       "      <td>male</td>\n",
       "      <td>male</td>\n",
       "      <td>male</td>\n",
       "      <td>male</td>\n",
       "      <td>female</td>\n",
       "      <td>female</td>\n",
       "      <td>female</td>\n",
       "      <td>female</td>\n",
       "      <td>male</td>\n",
       "      <td>male</td>\n",
       "      <td>female</td>\n",
       "    </tr>\n",
       "    <tr>\n",
       "      <th>Age</th>\n",
       "      <td>22</td>\n",
       "      <td>38</td>\n",
       "      <td>26</td>\n",
       "      <td>35</td>\n",
       "      <td>35</td>\n",
       "      <td>NaN</td>\n",
       "      <td>54</td>\n",
       "      <td>2</td>\n",
       "      <td>27</td>\n",
       "      <td>14</td>\n",
       "      <td>4</td>\n",
       "      <td>58</td>\n",
       "      <td>20</td>\n",
       "      <td>39</td>\n",
       "      <td>14</td>\n",
       "    </tr>\n",
       "    <tr>\n",
       "      <th>SibSp</th>\n",
       "      <td>1</td>\n",
       "      <td>1</td>\n",
       "      <td>0</td>\n",
       "      <td>1</td>\n",
       "      <td>0</td>\n",
       "      <td>0</td>\n",
       "      <td>0</td>\n",
       "      <td>3</td>\n",
       "      <td>0</td>\n",
       "      <td>1</td>\n",
       "      <td>1</td>\n",
       "      <td>0</td>\n",
       "      <td>0</td>\n",
       "      <td>1</td>\n",
       "      <td>0</td>\n",
       "    </tr>\n",
       "    <tr>\n",
       "      <th>Parch</th>\n",
       "      <td>0</td>\n",
       "      <td>0</td>\n",
       "      <td>0</td>\n",
       "      <td>0</td>\n",
       "      <td>0</td>\n",
       "      <td>0</td>\n",
       "      <td>0</td>\n",
       "      <td>1</td>\n",
       "      <td>2</td>\n",
       "      <td>0</td>\n",
       "      <td>1</td>\n",
       "      <td>0</td>\n",
       "      <td>0</td>\n",
       "      <td>5</td>\n",
       "      <td>0</td>\n",
       "    </tr>\n",
       "    <tr>\n",
       "      <th>Fare</th>\n",
       "      <td>7.25</td>\n",
       "      <td>71.2833</td>\n",
       "      <td>7.925</td>\n",
       "      <td>53.1</td>\n",
       "      <td>8.05</td>\n",
       "      <td>8.4583</td>\n",
       "      <td>51.8625</td>\n",
       "      <td>21.075</td>\n",
       "      <td>11.1333</td>\n",
       "      <td>30.0708</td>\n",
       "      <td>16.7</td>\n",
       "      <td>26.55</td>\n",
       "      <td>8.05</td>\n",
       "      <td>31.275</td>\n",
       "      <td>7.8542</td>\n",
       "    </tr>\n",
       "    <tr>\n",
       "      <th>Embarked</th>\n",
       "      <td>S</td>\n",
       "      <td>C</td>\n",
       "      <td>S</td>\n",
       "      <td>S</td>\n",
       "      <td>S</td>\n",
       "      <td>Q</td>\n",
       "      <td>S</td>\n",
       "      <td>S</td>\n",
       "      <td>S</td>\n",
       "      <td>C</td>\n",
       "      <td>S</td>\n",
       "      <td>S</td>\n",
       "      <td>S</td>\n",
       "      <td>S</td>\n",
       "      <td>S</td>\n",
       "    </tr>\n",
       "  </tbody>\n",
       "</table>\n",
       "</div>"
      ],
      "text/plain": [
       "            0        1       2       3     4       5        6       7   \\\n",
       "Pclass       3        1       3       1     3       3        1       3   \n",
       "Sex       male   female  female  female  male    male     male    male   \n",
       "Age         22       38      26      35    35     NaN       54       2   \n",
       "SibSp        1        1       0       1     0       0        0       3   \n",
       "Parch        0        0       0       0     0       0        0       1   \n",
       "Fare      7.25  71.2833   7.925    53.1  8.05  8.4583  51.8625  21.075   \n",
       "Embarked     S        C       S       S     S       Q        S       S   \n",
       "\n",
       "               8        9       10      11    12      13      14  \n",
       "Pclass          3        2       3       1     3       3       3  \n",
       "Sex        female   female  female  female  male    male  female  \n",
       "Age            27       14       4      58    20      39      14  \n",
       "SibSp           0        1       1       0     0       1       0  \n",
       "Parch           2        0       1       0     0       5       0  \n",
       "Fare      11.1333  30.0708    16.7   26.55  8.05  31.275  7.8542  \n",
       "Embarked        S        C       S       S     S       S       S  "
      ]
     },
     "execution_count": 19,
     "metadata": {},
     "output_type": "execute_result"
    }
   ],
   "source": [
    "pre_features2 = pre_features.copy()\n",
    "test_features2 = test_features.copy()\n",
    "\n",
    "pre_features2.head(15).T"
   ]
  },
  {
   "cell_type": "code",
   "execution_count": 20,
   "metadata": {
    "collapsed": false
   },
   "outputs": [],
   "source": [
    "pre_features2['Sex'].replace({'male' : 1, 'female': 0}, inplace=True)"
   ]
  },
  {
   "cell_type": "code",
   "execution_count": 21,
   "metadata": {
    "collapsed": true
   },
   "outputs": [],
   "source": [
    "test_features2['Sex'].replace({'male' : 1, 'female': 0}, inplace=True)"
   ]
  },
  {
   "cell_type": "code",
   "execution_count": 22,
   "metadata": {
    "collapsed": false
   },
   "outputs": [
    {
     "data": {
      "text/plain": [
       "'S'"
      ]
     },
     "execution_count": 22,
     "metadata": {},
     "output_type": "execute_result"
    }
   ],
   "source": [
    "age_mean = pd.concat([pre_features2.Age, test_features2.Age], ignore_index=True).mean()\n",
    "fare_mean = pd.concat([pre_features2.Fare, test_features2.Fare], ignore_index=True).mean()\n",
    "\n",
    "most_common = pd.get_dummies(pre_features2['Embarked']).sum().sort_values(ascending=False).index[0]\n",
    "most_common"
   ]
  },
  {
   "cell_type": "code",
   "execution_count": 23,
   "metadata": {
    "collapsed": false
   },
   "outputs": [],
   "source": [
    "pre_features2['Embarked'] = pre_features2['Embarked'].fillna(most_common)"
   ]
  },
  {
   "cell_type": "code",
   "execution_count": 24,
   "metadata": {
    "collapsed": true
   },
   "outputs": [],
   "source": [
    "pre_features2['Age'] = pre_features2['Age'].fillna(age_mean)"
   ]
  },
  {
   "cell_type": "code",
   "execution_count": 25,
   "metadata": {
    "collapsed": true
   },
   "outputs": [],
   "source": [
    "test_features2['Age'] = test_features2['Age'].fillna(age_mean)"
   ]
  },
  {
   "cell_type": "code",
   "execution_count": 26,
   "metadata": {
    "collapsed": true
   },
   "outputs": [],
   "source": [
    "test_features2['Fare'] = test_features2['Fare'].fillna(fare_mean)"
   ]
  },
  {
   "cell_type": "code",
   "execution_count": 27,
   "metadata": {
    "collapsed": false
   },
   "outputs": [
    {
     "data": {
      "text/plain": [
       "Pclass       1\n",
       "Sex          0\n",
       "Age         38\n",
       "SibSp        0\n",
       "Parch        0\n",
       "Fare        80\n",
       "Embarked     S\n",
       "Name: 61, dtype: object"
      ]
     },
     "execution_count": 27,
     "metadata": {},
     "output_type": "execute_result"
    }
   ],
   "source": [
    "pre_features2.loc[61]"
   ]
  },
  {
   "cell_type": "code",
   "execution_count": 28,
   "metadata": {
    "_cell_guid": "8c6ec7af-1ae4-aa60-75d2-350feb3e7f11",
    "_execution_state": "idle",
    "_uuid": "fa47122776beff32489974de6df105317b535cff",
    "collapsed": false
   },
   "outputs": [
    {
     "data": {
      "text/plain": [
       "Pclass      0\n",
       "Sex         0\n",
       "Age         0\n",
       "SibSp       0\n",
       "Parch       0\n",
       "Fare        0\n",
       "Embarked    0\n",
       "dtype: int64"
      ]
     },
     "execution_count": 28,
     "metadata": {},
     "output_type": "execute_result"
    }
   ],
   "source": [
    "pd.isnull(pre_features2).sum()"
   ]
  },
  {
   "cell_type": "code",
   "execution_count": 29,
   "metadata": {
    "_cell_guid": "cd5249f0-3267-a583-5c53-6d4bfbef1e89",
    "_execution_state": "idle",
    "_uuid": "d368bee477ebfb0cdc7572b42f32b3957245da07",
    "collapsed": false
   },
   "outputs": [
    {
     "data": {
      "text/plain": [
       "Pclass      0\n",
       "Sex         0\n",
       "Age         0\n",
       "SibSp       0\n",
       "Parch       0\n",
       "Fare        0\n",
       "Embarked    0\n",
       "dtype: int64"
      ]
     },
     "execution_count": 29,
     "metadata": {},
     "output_type": "execute_result"
    }
   ],
   "source": [
    "pd.isnull(test_features2).sum()"
   ]
  },
  {
   "cell_type": "code",
   "execution_count": 30,
   "metadata": {
    "collapsed": false
   },
   "outputs": [],
   "source": [
    "pre_features2 = pd.get_dummies(pre_features2, prefix=['Embarked']);"
   ]
  },
  {
   "cell_type": "code",
   "execution_count": 31,
   "metadata": {
    "collapsed": false
   },
   "outputs": [
    {
     "data": {
      "text/plain": [
       "Pclass        0\n",
       "Sex           0\n",
       "Age           0\n",
       "SibSp         0\n",
       "Parch         0\n",
       "Fare          0\n",
       "Embarked_C    0\n",
       "Embarked_Q    0\n",
       "Embarked_S    0\n",
       "dtype: int64"
      ]
     },
     "execution_count": 31,
     "metadata": {},
     "output_type": "execute_result"
    }
   ],
   "source": [
    "pd.isnull(pre_features2).sum()"
   ]
  },
  {
   "cell_type": "code",
   "execution_count": 32,
   "metadata": {
    "collapsed": false
   },
   "outputs": [],
   "source": [
    "test_features2 = pd.get_dummies(test_features2, prefix=['Embarked'], columns=['Embarked']);"
   ]
  },
  {
   "cell_type": "code",
   "execution_count": 33,
   "metadata": {
    "collapsed": false
   },
   "outputs": [
    {
     "data": {
      "text/plain": [
       "Pclass        0\n",
       "Sex           0\n",
       "Age           0\n",
       "SibSp         0\n",
       "Parch         0\n",
       "Fare          0\n",
       "Embarked_C    0\n",
       "Embarked_Q    0\n",
       "Embarked_S    0\n",
       "dtype: int64"
      ]
     },
     "execution_count": 33,
     "metadata": {},
     "output_type": "execute_result"
    }
   ],
   "source": [
    "pd.isnull(test_features2).sum()"
   ]
  },
  {
   "cell_type": "markdown",
   "metadata": {
    "_cell_guid": "9f77f3ff-07d3-deba-633f-b2414c8e77d4",
    "_uuid": "c06124c4918ead26d85051aaa88a1af18d144d28"
   },
   "source": [
    "For predictions I have chosen the following models:\n",
    "\n",
    "- GradientBoostingClassifier();\n",
    "- RandomForestClassifier();\n",
    "- AdaBoostClassifier().\n",
    "\n",
    "Let's have a look at their applications and characteristics:\n",
    "\n",
    "1) **GradientBoostingClassifier**.\n",
    "\n",
    "- Applications: in the field of learning to rank (for example, web-seach), in ecology.\n",
    "  - Web-Search Ranking with Initialized Gradient Boosted Regression Trees: http://www.jmlr.org/proceedings/papers/v14/mohan11a/mohan11a.pdf\n",
    "  - Gradient boosting machines, a tutorial: https://www.ncbi.nlm.nih.gov/pmc/articles/PMC3885826/\n",
    "- Strengths: natural handling of data of mixed type (= heterogeneous features), predictive power, robustness to outliers in output space (via robust loss functions).\n",
    "- Weaknesses: scalability, due to the sequential nature of boosting it can hardly be parallelized.\n",
    "\n",
    "2) **RandomForestClassifier**.\n",
    "\n",
    "- Applications: in ecology, bioinformatics.\n",
    "  - RANDOM FORESTS FOR CLASSIFICATION IN ECOLOGY: http://onlinelibrary.wiley.com/doi/10.1890/07-0539.1/abstract;jsessionid=AB1864A895F3244AF0699EB0317F2C99.f02t02\n",
    "  - Random Forest for Bioinformatics: http://www.cs.cmu.edu/~qyj/papersA08/11-rfbook.pdf\n",
    "- Strengths: runs efficiently on large data bases; gives estimates of what variables are important in the classification; maintains accuracy when a large proportion of the data are missing; high prediction accuracy.\n",
    "- Weaknesses: difficult to interpret, can be slow to evaluate.\n",
    "\n",
    "3) **AdaBoostClassifier**.\n",
    "\n",
    "- Applications: the problem of face detection, text classification, etc.\n",
    "  - AdaBoost-based face detection for embedded systems: http://www.sciencedirect.com/science/article/pii/S1077314210000871\n",
    "  - Text Classification by Boosting Weak Learners based on Terms and Concepts: http://citeseerx.ist.psu.edu/viewdoc/download?doi=10.1.1.443.8019&rep=rep1&type=pdf\n",
    "- Strengths: can be used with data that is textual, numeric, discrete, etc.; can be combined with any other learning algorithm, not prone to overfitting; simple to implement.\n",
    "- Weaknesses: can be sensitive to noisy data and outliers; the performance depends on data and weak learner (can fail if weak classifiers too complex).\n",
    "\n",
    "All these classifiers will produce enough good predictions in this case. We should produce the result with the variant of ranking and it's a well-known fact that classification tends to be a better paradigm for ranking than regression.\n",
    "\n",
    "Let's initialize three helper functions which we can use for training and testing sets the three supervised learning models we've chosen above.\n",
    "\n",
    "The functions are as follows:\n",
    "\n",
    "- **train_classifier** - takes as input a classifier and training data and fits the classifier to the data;\n",
    "- **predict_labels** - takes as input a fit classifier, features, and a target labeling and makes predictions using the F1 score;\n",
    "- **train_predict** - takes as input a classifier, and the training data, and performs train_clasifier and predict_labels.\n",
    "\n",
    "This function will report the **F1 score** for the training data."
   ]
  },
  {
   "cell_type": "code",
   "execution_count": 34,
   "metadata": {
    "_cell_guid": "e401f8e6-ccbb-af49-18d5-f79e4eed451f",
    "_execution_state": "idle",
    "_uuid": "5df79a19c1c6f51768da850c8c9071813bf97952",
    "collapsed": true
   },
   "outputs": [],
   "source": [
    "def train_classifier(clf, X_train, y_train):\n",
    "    ''' Fits a classifier to the training data. '''\n",
    "    \n",
    "    # Start the clock, train the classifier, then stop the clock\n",
    "    start = time()\n",
    "    clf.fit(X_train, y_train)\n",
    "    end = time()\n",
    "    \n",
    "    # Print the results\n",
    "    print (\"Trained model in {:.4f} seconds\".format(end - start))\n",
    "    \n",
    "def predict_labels(clf, features, target):\n",
    "    ''' Makes predictions using a fit classifier based on F1 score. '''\n",
    "    \n",
    "    # Start the clock, make predictions, then stop the clock\n",
    "    start = time()\n",
    "    y_pred = clf.predict(features)\n",
    "    end = time()\n",
    "    \n",
    "    # Print and return results\n",
    "    print (\"Made predictions in {:.4f} seconds.\".format(end - start))\n",
    "    return f1_score(target.values, y_pred, pos_label=1)\n",
    "\n",
    "\n",
    "def train_predict(clf, X_train, y_train):\n",
    "    ''' Train and predict using a classifer based on F1 score. '''\n",
    "    \n",
    "    # Indicate the classifier and the training set size\n",
    "    print (\"Training a {} using a training set size of {}. . .\".\\\n",
    "           format(clf.__class__.__name__, len(X_train)))\n",
    "    \n",
    "    # Train the classifier\n",
    "    train_classifier(clf, X_train, y_train)\n",
    "    \n",
    "    # Print the results of prediction for both training and testing\n",
    "    print (\"F1 score for training set: {:.4f}.\".format(predict_labels(clf, X_train, y_train)))"
   ]
  },
  {
   "cell_type": "markdown",
   "metadata": {
    "_cell_guid": "b9b5df1b-c16c-8fd5-4507-a46c052e5d63",
    "_uuid": "e5ec4fad5e502337633743fbccdcd74978c3fb37"
   },
   "source": [
    "With the predefined functions above, I will now import the three supervised learning models and run the **train_predict** function for each one. It needs to train and predict on each classifier for three different training set sizes: 200, 400, and all data points. \n",
    "\n",
    "Hence,  nine different outputs will be displayed below — three for each model using the varying training set sizes."
   ]
  },
  {
   "cell_type": "code",
   "execution_count": 35,
   "metadata": {
    "_cell_guid": "88f1905d-2fce-81dd-87fd-1e3f3ca695eb",
    "_execution_state": "idle",
    "_uuid": "aa5a0fc4137e7fe61437fa39721b7a283c2cf8c6",
    "collapsed": false
   },
   "outputs": [
    {
     "name": "stdout",
     "output_type": "stream",
     "text": [
      "Training a AdaBoostClassifier using a training set size of 200. . .\n",
      "Trained model in 0.1380 seconds\n",
      "Made predictions in 0.0082 seconds.\n",
      "F1 score for training set: 0.7761.\n",
      "Training a AdaBoostClassifier using a training set size of 400. . .\n",
      "Trained model in 0.1193 seconds\n",
      "Made predictions in 0.0101 seconds.\n",
      "F1 score for training set: 0.7818.\n",
      "Training a AdaBoostClassifier using a training set size of 891. . .\n",
      "Trained model in 0.1094 seconds\n",
      "Made predictions in 0.0117 seconds.\n",
      "F1 score for training set: 0.7778.\n",
      "Training a GradientBoostingClassifier using a training set size of 200. . .\n",
      "Trained model in 0.0801 seconds\n",
      "Made predictions in 0.0011 seconds.\n",
      "F1 score for training set: 0.9474.\n",
      "Training a GradientBoostingClassifier using a training set size of 400. . .\n",
      "Trained model in 0.0870 seconds\n",
      "Made predictions in 0.0015 seconds.\n",
      "F1 score for training set: 0.8919.\n",
      "Training a GradientBoostingClassifier using a training set size of 891. . .\n",
      "Trained model in 0.1059 seconds\n",
      "Made predictions in 0.0028 seconds.\n",
      "F1 score for training set: 0.8500.\n",
      "Training a RandomForestClassifier using a training set size of 200. . .\n",
      "Trained model in 0.0202 seconds\n",
      "Made predictions in 0.0024 seconds.\n",
      "F1 score for training set: 0.9630.\n",
      "Training a RandomForestClassifier using a training set size of 400. . .\n",
      "Trained model in 0.0222 seconds\n",
      "Made predictions in 0.0023 seconds.\n",
      "F1 score for training set: 0.9484.\n",
      "Training a RandomForestClassifier using a training set size of 891. . .\n",
      "Trained model in 0.0222 seconds\n",
      "Made predictions in 0.0035 seconds.\n",
      "F1 score for training set: 0.9542.\n"
     ]
    }
   ],
   "source": [
    "# Initialize the three models\n",
    "clf_A = AdaBoostClassifier()\n",
    "clf_B = GradientBoostingClassifier()\n",
    "clf_C = RandomForestClassifier()\n",
    "\n",
    "# Set up the training set sizes\n",
    "X_train_200, y_train_200 = pre_features2[:200], outcomes[:200]\n",
    "X_train_400, y_train_400 = pre_features2[:400], outcomes[:400]\n",
    "X_train, y_train = pre_features2, outcomes\n",
    "X_test = test_features2\n",
    "\n",
    "# Execute the 'train_predict' function for each classifier and each training set size\n",
    "for clf in [clf_A, clf_B, clf_C]:\n",
    "    for (X_train, y_train) in [(X_train_200, y_train_200), \n",
    "                               (X_train_400, y_train_400), \n",
    "                               (X_train, y_train)]:\n",
    "        train_predict(clf, X_train, y_train)"
   ]
  },
  {
   "cell_type": "markdown",
   "metadata": {
    "_cell_guid": "9ffa3665-4f15-ff02-a451-6bc854367343",
    "_uuid": "fd71710712d772b9501c06c469658508d92eaf73"
   },
   "source": [
    "The best result has the **RandomForestClassifier** and I will try to apply it for test predictions."
   ]
  },
  {
   "cell_type": "code",
   "execution_count": 36,
   "metadata": {
    "_cell_guid": "30c0aedf-1f43-26f3-d5f6-3649b3f25489",
    "_execution_state": "idle",
    "_uuid": "c8691380d0bfaefb36f25add6a69949df353a336",
    "collapsed": false
   },
   "outputs": [
    {
     "data": {
      "text/plain": [
       "array([0, 0, 0, 1, 0, 0, 0, 0, 1, 0, 0, 0, 1, 0, 1, 1, 0, 0, 0, 1, 0, 1, 1,\n",
       "       1, 1, 0, 1, 0, 1, 0, 0, 0, 1, 0, 1, 1, 0, 0, 0, 1, 0, 1, 0, 1, 1, 0,\n",
       "       1, 0, 1, 0, 1, 0, 1, 1, 0, 0, 0, 0, 0, 1, 0, 0, 0, 1, 1, 1, 1, 0, 0,\n",
       "       1, 1, 0, 0, 0, 1, 1, 0, 1, 0, 1, 1, 0, 0, 0, 0, 0, 1, 0, 1, 1, 0, 1,\n",
       "       1, 0, 0, 0, 1, 0, 0, 0, 1, 0, 0, 0, 1, 0, 1, 0, 0, 0, 0, 1, 1, 1, 1,\n",
       "       0, 0, 1, 0, 1, 1, 0, 1, 0, 0, 1, 0, 1, 0, 0, 0, 0, 0, 0, 0, 0, 0, 0,\n",
       "       0, 0, 0, 1, 0, 0, 1, 0, 0, 0, 1, 0, 1, 0, 0, 0, 0, 0, 1, 0, 1, 1, 1,\n",
       "       1, 1, 0, 0, 0, 0, 0, 1, 0, 0, 0, 0, 0, 0, 1, 1, 0, 1, 1, 0, 0, 1, 0,\n",
       "       1, 0, 1, 0, 0, 0, 0, 0, 0, 0, 1, 0, 1, 0, 0, 0, 1, 1, 0, 1, 0, 0, 0,\n",
       "       0, 1, 0, 0, 0, 0, 1, 0, 0, 1, 0, 1, 0, 1, 0, 1, 1, 1, 0, 0, 1, 0, 0,\n",
       "       0, 1, 0, 0, 1, 0, 0, 1, 1, 1, 0, 1, 0, 0, 0, 0, 1, 0, 1, 0, 1, 0, 0,\n",
       "       0, 0, 0, 0, 0, 1, 0, 0, 0, 1, 1, 0, 0, 0, 0, 0, 0, 0, 0, 1, 1, 0, 1,\n",
       "       0, 0, 0, 0, 0, 1, 1, 0, 0, 0, 0, 0, 0, 0, 0, 0, 0, 0, 0, 0, 1, 0, 0,\n",
       "       0, 1, 0, 0, 0, 1, 1, 1, 1, 0, 0, 0, 0, 0, 0, 1, 1, 0, 0, 0, 0, 0, 0,\n",
       "       0, 1, 1, 0, 1, 0, 0, 0, 1, 1, 0, 1, 0, 0, 1, 0, 0, 0, 0, 0, 0, 1, 0,\n",
       "       1, 0, 1, 0, 1, 1, 0, 0, 0, 1, 0, 1, 0, 0, 1, 0, 1, 1, 1, 1, 1, 0, 0,\n",
       "       1, 0, 0, 1, 0, 0, 1, 1, 0, 0, 0, 1, 0, 1, 1, 0, 1, 1, 0, 0, 1, 0, 0,\n",
       "       1, 0, 0, 0, 1, 0, 1, 0, 0, 1, 0, 1, 0, 0, 0, 0, 0, 1, 1, 1, 1, 0, 0,\n",
       "       1, 0, 0, 1])"
      ]
     },
     "execution_count": 36,
     "metadata": {},
     "output_type": "execute_result"
    }
   ],
   "source": [
    "clf = RandomForestClassifier()\n",
    "clf.fit(X_train, y_train)\n",
    "y_pred = clf.predict(test_features2)\n",
    "y_pred"
   ]
  },
  {
   "cell_type": "code",
   "execution_count": 37,
   "metadata": {
    "_cell_guid": "b45f5550-b6dd-9fcd-405d-eb162398817d",
    "_execution_state": "idle",
    "_uuid": "b8e8d78f352d81bf0dacbf7570d6732288c79f51",
    "collapsed": true
   },
   "outputs": [],
   "source": [
    "submission = pd.DataFrame({\"PassengerId\": test_data[\"PassengerId\"], \"Survived\": y_pred})"
   ]
  },
  {
   "cell_type": "code",
   "execution_count": 56,
   "metadata": {
    "_cell_guid": "f77feb0f-21db-85ab-60fa-b58afe8ec05b",
    "_execution_state": "idle",
    "_uuid": "cd7c55f0aaa8d6af0ac29e3d22a127f12fb70e48",
    "collapsed": true
   },
   "outputs": [],
   "source": [
    "# submission.to_csv('C:/users/OlgaBelitskaya/submission.csv', index=False)"
   ]
  },
  {
   "cell_type": "markdown",
   "metadata": {
    "_execution_state": "idle",
    "_uuid": "862bc8eed03cc9722970b4f60f994fabbd9e3016",
    "collapsed": false
   },
   "source": [
    "### 4.2 MLP Neural Networks"
   ]
  },
  {
   "cell_type": "code",
   "execution_count": 60,
   "metadata": {
    "_execution_state": "idle",
    "_uuid": "fb507f41bc622e57ae301b98ba1a807b858fe0fe",
    "collapsed": false
   },
   "outputs": [
    {
     "data": {
      "text/plain": [
       "((712, 9), (179, 9))"
      ]
     },
     "execution_count": 60,
     "metadata": {},
     "output_type": "execute_result"
    }
   ],
   "source": [
    "pre_features_array = pre_features2.as_matrix()\n",
    "outcomes_array = outcomes.as_matrix()\n",
    "test_features_array = test_features2.as_matrix()\n",
    "\n",
    "X_train2, X_test2, y_train2, y_test2 = train_test_split(pre_features_array, outcomes_array, \n",
    "                                                        test_size=0.2, random_state=1)\n",
    "X_train2.shape, X_test2.shape                                                       "
   ]
  },
  {
   "cell_type": "code",
   "execution_count": 108,
   "metadata": {
    "_execution_state": "idle",
    "_uuid": "a1b14b857f9921943db75e17864f48760fad57e0",
    "collapsed": false
   },
   "outputs": [],
   "source": [
    "def loss_plot(fit_history):\n",
    "    plt.figure(figsize=(14, 6))\n",
    "    plt.plot(fit_history.history['loss'], label = 'train')\n",
    "    plt.plot(fit_history.history['val_loss'], label = 'test')\n",
    "    plt.legend()\n",
    "    plt.title('Loss Function');  \n",
    "    \n",
    "def acc_plot(fit_history):\n",
    "    plt.figure(figsize=(14, 6))\n",
    "    plt.plot(fit_history.history['acc'], label = 'train')\n",
    "    plt.plot(fit_history.history['val_acc'], label = 'test')\n",
    "    plt.legend()\n",
    "    plt.title('Accuracy'); "
   ]
  },
  {
   "cell_type": "code",
   "execution_count": 197,
   "metadata": {
    "_execution_state": "idle",
    "_uuid": "f8c7240d3b69a3281081ed24d21d1696e48ccafc",
    "collapsed": false
   },
   "outputs": [],
   "source": [
    "def mlp_model():\n",
    "    model = Sequential()\n",
    "    \n",
    "    model.add(Dense(18, input_dim=9, kernel_initializer='uniform', activation='relu'))\n",
    "    \n",
    "    model.add(Dense(9, kernel_initializer='uniform', activation='relu'))\n",
    "    \n",
    "    model.add(Dense(1, kernel_initializer='uniform', activation='sigmoid'))\n",
    "\n",
    "    model.compile(optimizer='adam', loss='binary_crossentropy', metrics=['accuracy'])\n",
    "    return model"
   ]
  },
  {
   "cell_type": "code",
   "execution_count": 198,
   "metadata": {
    "_execution_state": "idle",
    "_uuid": "f51fe97567112366d674ffa7acb30bdeb2d98729",
    "collapsed": false
   },
   "outputs": [],
   "source": [
    "mlp_model = mlp_model()\n",
    "\n",
    "mlp_history = mlp_model.fit(X_train2, y_train2, validation_data=(X_test2, y_test2),\n",
    "                            epochs=100, batch_size=8, verbose=0)"
   ]
  },
  {
   "cell_type": "code",
   "execution_count": 199,
   "metadata": {
    "_execution_state": "idle",
    "_uuid": "980258a5df1bd60b4914be0c03ab4bdf0423c189",
    "collapsed": false
   },
   "outputs": [
    {
     "data": {
      "image/png": "[encoded data removed]",
      "text/plain": [
       "<matplotlib.figure.Figure at 0x125b3a278>"
      ]
     },
     "metadata": {},
     "output_type": "display_data"
    },
    {
     "data": {
      "image/png": "[encoded data removed]",
      "text/plain": [
       "<matplotlib.figure.Figure at 0x125b3a860>"
      ]
     },
     "metadata": {},
     "output_type": "display_data"
    }
   ],
   "source": [
    "loss_plot(mlp_history)\n",
    "acc_plot(mlp_history)"
   ]
  },
  {
   "cell_type": "code",
   "execution_count": 200,
   "metadata": {
    "_execution_state": "idle",
    "_uuid": "a30679af52af64b0268668c69aa1bd836e97ab5d",
    "collapsed": false
   },
   "outputs": [
    {
     "name": "stdout",
     "output_type": "stream",
     "text": [
      "Accuracy: 79.33%\n"
     ]
    }
   ],
   "source": [
    "mlp_scores = mlp_model.evaluate(X_test2, y_test2, verbose=0)\n",
    "print(\"Accuracy: %.2f%%\" % (mlp_scores[1]*100))"
   ]
  },
  {
   "cell_type": "code",
   "execution_count": 201,
   "metadata": {
    "_execution_state": "idle",
    "_uuid": "c439d5d2fbe6445c4523344dc6ba12389f130a2e",
    "collapsed": false
   },
   "outputs": [
    {
     "data": {
      "text/plain": [
       "array([0, 0, 0, 0, 0, 0, 1, 0, 1, 0, 0, 0, 1, 0, 1, 1, 0, 0, 0, 1, 0, 0, 1,\n",
       "       1, 1, 0, 1, 0, 0, 0, 0, 0, 0, 0, 0, 0, 1, 1, 0, 0, 0, 0, 0, 1, 1, 0,\n",
       "       0, 0, 1, 0, 0, 0, 1, 1, 0, 0, 0, 0, 0, 1, 0, 0, 0, 1, 0, 1, 1, 0, 0,\n",
       "       1, 1, 0, 1, 0, 1, 0, 0, 1, 0, 1, 0, 1, 0, 0, 0, 0, 1, 1, 1, 1, 0, 0,\n",
       "       1, 0, 0, 0, 1, 0, 1, 0, 1, 0, 0, 0, 1, 0, 0, 0, 0, 0, 0, 1, 1, 1, 1,\n",
       "       0, 0, 1, 1, 1, 1, 0, 1, 0, 0, 1, 0, 1, 0, 0, 0, 0, 0, 0, 0, 0, 0, 0,\n",
       "       1, 0, 0, 1, 0, 0, 0, 0, 0, 0, 0, 0, 1, 0, 0, 0, 0, 0, 1, 1, 0, 1, 1,\n",
       "       0, 1, 0, 0, 0, 0, 0, 1, 1, 0, 0, 0, 0, 0, 1, 1, 0, 1, 1, 0, 0, 1, 0,\n",
       "       1, 0, 1, 0, 0, 0, 0, 0, 0, 0, 1, 0, 1, 1, 0, 1, 1, 1, 0, 1, 0, 0, 1,\n",
       "       0, 1, 0, 0, 0, 0, 1, 0, 0, 1, 1, 1, 0, 1, 0, 1, 0, 1, 1, 0, 1, 0, 0,\n",
       "       1, 1, 0, 0, 0, 0, 0, 0, 1, 1, 1, 1, 0, 0, 0, 0, 1, 0, 1, 1, 1, 0, 0,\n",
       "       0, 0, 0, 0, 0, 1, 0, 0, 0, 1, 1, 0, 0, 0, 0, 1, 0, 1, 0, 1, 1, 0, 1,\n",
       "       0, 0, 0, 0, 1, 1, 1, 1, 1, 0, 0, 0, 0, 0, 0, 1, 0, 0, 0, 0, 1, 0, 0,\n",
       "       0, 0, 0, 0, 0, 1, 1, 0, 1, 0, 1, 0, 0, 0, 1, 1, 1, 1, 0, 0, 0, 0, 0,\n",
       "       0, 0, 1, 0, 1, 1, 0, 0, 1, 0, 0, 1, 0, 0, 0, 0, 0, 0, 0, 0, 0, 1, 0,\n",
       "       1, 0, 1, 0, 1, 1, 0, 0, 0, 1, 0, 1, 0, 0, 1, 0, 1, 1, 0, 1, 0, 0, 1,\n",
       "       1, 0, 0, 1, 0, 0, 1, 1, 0, 0, 0, 0, 0, 0, 1, 1, 0, 1, 0, 0, 0, 0, 0,\n",
       "       1, 0, 0, 0, 1, 0, 1, 0, 0, 1, 0, 1, 0, 0, 0, 0, 0, 1, 1, 1, 1, 1, 0,\n",
       "       1, 0, 0, 0])"
      ]
     },
     "execution_count": 201,
     "metadata": {},
     "output_type": "execute_result"
    }
   ],
   "source": [
    "y_pred_mlp = np.round(mlp_model.predict(test_features_array)).astype(int)\n",
    "y_pred_mlp[:,0]"
   ]
  },
  {
   "cell_type": "code",
   "execution_count": 202,
   "metadata": {
    "_execution_state": "idle",
    "_uuid": "c5db7be13a8f0daf85626b9812ee9194bc96e1ad",
    "collapsed": false
   },
   "outputs": [],
   "source": [
    "submission_mlp = pd.DataFrame({\"PassengerId\": test_data[\"PassengerId\"], \"Survived\": y_pred_mlp[:,0]})"
   ]
  },
  {
   "cell_type": "code",
   "execution_count": 203,
   "metadata": {
    "_execution_state": "idle",
    "_uuid": "cbb509b4538b0d78a9e174836c85395ef96f1c5c",
    "collapsed": false
   },
   "outputs": [],
   "source": [
    "submission_mlp.to_csv('submission_mlp.csv', index=False)"
   ]
  },
  {
   "cell_type": "code",
   "execution_count": 204,
   "metadata": {
    "_execution_state": "idle",
    "_uuid": "82c0b351277d7004bbe8bc574641185c0bdd451e",
    "collapsed": false
   },
   "outputs": [
    {
     "data": {
      "text/plain": [
       "418"
      ]
     },
     "execution_count": 204,
     "metadata": {},
     "output_type": "execute_result"
    }
   ],
   "source": [
    "len(submission_mlp[\"Survived\"])"
   ]
  },
  {
   "cell_type": "code",
   "execution_count": 205,
   "metadata": {
    "_execution_state": "idle",
    "_uuid": "7c7ac0d944af04ee0855b395f9fa8c9bb206ab58",
    "collapsed": false
   },
   "outputs": [
    {
     "data": {
      "text/plain": [
       "352"
      ]
     },
     "execution_count": 205,
     "metadata": {},
     "output_type": "execute_result"
    }
   ],
   "source": [
    "sum(submission_mlp[\"Survived\"]==submission[\"Survived\"])"
   ]
  },
  {
   "cell_type": "markdown",
   "metadata": {
    "_cell_guid": "3a7fa44a-f34a-62ff-86f4-d495e0816de4",
    "_uuid": "320f81564025ef10349e6dbbe9f9ad20169580e6"
   },
   "source": [
    "## 5. Conclusion"
   ]
  },
  {
   "cell_type": "markdown",
   "metadata": {
    "_cell_guid": "3f3b14ee-fbb0-2606-4129-5225319bb00c",
    "_uuid": "f7494dd405be9b89efb49a7c1e3762b74c8b2001"
   },
   "source": [
    "Overvaluation of meaning and application of machine learning is unlikely to succeed. And the particular supervised method has a special importance because of the possibility of a permanent correlation of the predictions with the result of real actions.\n",
    "\n",
    "There are several natural ideas for applying the supervised learning.\n",
    "\n",
    "I. For every catastrophic situation, find out the exact sequence of steps and technical facilities which maximally decrease the damage. On the basis of the identified trends, it is possible to develop and check in practice clear guidelines to save lives and restore economic activities (for example, during and after the floods). Applying the scientific methods, in this case, means thousands of lives and quick recovering the economics. The useful features can evaluate disasters (areas, time period), damage (human lives, economic indicators) and recovery process (speed, effectiveness).\n",
    "\n",
    "II. The same techniques could be useful in the process of creating self-learning facilities of virtual reality in order to bring the process of their development to the real counterparts, predict it and make corrections in time. Here the set of concrete features is very individual and depends on the object. For example, it can be growth, flowering, etc. for the plant and its imitation."
   ]
  },
  {
   "cell_type": "code",
   "execution_count": null,
   "metadata": {
    "_cell_guid": "9627d162-2527-a66c-b7fd-d12c5ce2e089",
    "_execution_state": "idle",
    "_uuid": "551065f5f4633ae643878107e3890efed070b53a",
    "collapsed": true
   },
   "outputs": [],
   "source": []
  }
 ],
 "metadata": {
  "_change_revision": 0,
  "_is_fork": false,
  "hide_input": false,
  "kernelspec": {
   "display_name": "Python 3",
   "language": "python",
   "name": "python3"
  },
  "language_info": {
   "codemirror_mode": {
    "name": "ipython",
    "version": 3
   },
   "file_extension": ".py",
   "mimetype": "text/x-python",
   "name": "python",
   "nbconvert_exporter": "python",
   "pygments_lexer": "ipython3",
   "version": "3.6.1"
  },
  "latex_envs": {
   "bibliofile": "biblio.bib",
   "cite_by": "apalike",
   "current_citInitial": 1,
   "eqLabelWithNumbers": true,
   "eqNumInitial": 0
  }
 },
 "nbformat": 4,
 "nbformat_minor": 0
}
